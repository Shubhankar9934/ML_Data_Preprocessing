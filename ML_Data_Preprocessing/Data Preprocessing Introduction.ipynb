{
 "cells": [
  {
   "cell_type": "raw",
   "id": "e4b3a3b8",
   "metadata": {},
   "source": [
    "Topics\n",
    "1) What is Data Perprocessing?\n",
    "2) Why Data Preprocessing important ?\n",
    "3) Techniques\n",
    "4) Data Claeaning\n",
    "5) Data Intergration\n",
    "6) Data Reduction\n",
    "7)Data Transformation\n",
    "8) Data Discretization\n",
    "9) Prerequisites of Data Preprocessing"
   ]
  },
  {
   "cell_type": "markdown",
   "id": "1e31aab3",
   "metadata": {},
   "source": [
    "# 1) What is Data Perprocessing?"
   ]
  },
  {
   "cell_type": "raw",
   "id": "eb6077ef",
   "metadata": {},
   "source": [
    "Data Means :\n",
    "1) Text\n",
    "2) Image \n",
    "3) Video\n",
    "4) Audio\n"
   ]
  },
  {
   "cell_type": "raw",
   "id": "ac2d44fc",
   "metadata": {},
   "source": [
    "Data Preprocessing is a process to convert raw data into meaningful data using\n",
    "different techniques."
   ]
  },
  {
   "cell_type": "markdown",
   "id": "bf4a337a",
   "metadata": {},
   "source": [
    "# Why is Data Preprocessing Important?"
   ]
  },
  {
   "cell_type": "raw",
   "id": "06648c0b",
   "metadata": {},
   "source": [
    "1) Data in the real world is dirty.\n",
    " here word dirty means:\n",
    "       > incomplete\n",
    "       > noisy\n",
    "       > inconsistent\n",
    "       > duplicates"
   ]
  },
  {
   "cell_type": "raw",
   "id": "3aa0bfb1",
   "metadata": {},
   "source": [
    "Data Quality Elements\n",
    "1)  Accuracy\n",
    "2) Completeness\n",
    "3) Consistency\n",
    "4) Believability\n",
    "5) Interpretability\n"
   ]
  },
  {
   "cell_type": "markdown",
   "id": "6769a3b5",
   "metadata": {},
   "source": [
    "# Steps/Technique in Data Preprocessing"
   ]
  },
  {
   "cell_type": "raw",
   "id": "19dd362e",
   "metadata": {},
   "source": [
    "Major Steps in Data Preprocessing\n",
    " 1) Data Cleaning \n",
    " 2) Data Integration\n",
    " 3) Data Reduction\n",
    " 4) Data Transformation\n",
    " 5) Data Discretization"
   ]
  },
  {
   "cell_type": "markdown",
   "id": "e0747aca",
   "metadata": {},
   "source": [
    "# What is Data Cleaning ?"
   ]
  },
  {
   "cell_type": "raw",
   "id": "08d59f01",
   "metadata": {},
   "source": [
    "Data Cleaning means fill in missing values, smooth out noise while identifying\n",
    "outlier, and correct inconsistencies in the data."
   ]
  },
  {
   "cell_type": "markdown",
   "id": "44a81731",
   "metadata": {},
   "source": [
    "# What is Data integration ?"
   ]
  },
  {
   "cell_type": "raw",
   "id": "731e3a4e",
   "metadata": {},
   "source": [
    "Data Integration is a techniques to merge data from multiple sources into\n",
    "a coherent data store , such as a data warehouse ."
   ]
  },
  {
   "cell_type": "markdown",
   "id": "1be27eb3",
   "metadata": {},
   "source": [
    "# What is Data Reduction?"
   ]
  },
  {
   "cell_type": "raw",
   "id": "1ae87863",
   "metadata": {},
   "source": [
    "Data Reduction is a techniques use to reduce the data size by \n",
    "aggregating , eleminating redundant features, or clustering , for instance."
   ]
  },
  {
   "cell_type": "markdown",
   "id": "778b451c",
   "metadata": {},
   "source": [
    "# What is Data Transformation?"
   ]
  },
  {
   "cell_type": "raw",
   "id": "e25bbb03",
   "metadata": {},
   "source": [
    "Data transforamtion means data are transformed or consolidated into forms\n",
    "appropriatee for ML model training , such as normalization , may be applied\n",
    "where data are scaled to fall within a smaller range like 0.0 to 1.0\n",
    "1) Aggregation \n",
    "2) Feature type conversion \n",
    "3) Normalization\n",
    "4) Attribute / feature construction\n",
    "\n"
   ]
  },
  {
   "cell_type": "markdown",
   "id": "603a535b",
   "metadata": {},
   "source": [
    "# What is Data Discretization ?"
   ]
  },
  {
   "cell_type": "raw",
   "id": "8526b3ea",
   "metadata": {},
   "source": [
    "1) Data Discretization techniques transforms numric data by mapping \n",
    " values to interval or concept labels.\n",
    "2) It can be used to reduce the number of a values for a given continuous \n",
    " attribute by dividing the range if the attribute into interavls .\n",
    "3) Discretization techniques include -\n",
    "   > Binning\n",
    "   > Histogram analysis\n",
    "   > Cluster analysis\n",
    "   > Decision - tree analysis\n",
    "   > Correlation analysis"
   ]
  },
  {
   "cell_type": "markdown",
   "id": "958c5b57",
   "metadata": {},
   "source": [
    "# Prerequisites for Data Preprocessing\n"
   ]
  },
  {
   "cell_type": "raw",
   "id": "b3a21acc",
   "metadata": {},
   "source": [
    "Python Libraries:-\n",
    "    > Numpy\n",
    "    > Pandas \n",
    "    > Matplotlib\n",
    "    > Seaborn \n",
    "    > Scikit Learn\n",
    "Mathematics :-\n",
    "    > Statistics\n",
    "    > Probability\n",
    "    > Calculus\n",
    "    > Linear Algebra\n",
    " \n",
    "Software :-\n",
    "  Anaconda \n",
    "  Jupyter Notebook & Spyder\n",
    "  "
   ]
  },
  {
   "cell_type": "code",
   "execution_count": null,
   "id": "f5a88730",
   "metadata": {},
   "outputs": [],
   "source": []
  }
 ],
 "metadata": {
  "kernelspec": {
   "display_name": "Python 3 (ipykernel)",
   "language": "python",
   "name": "python3"
  },
  "language_info": {
   "codemirror_mode": {
    "name": "ipython",
    "version": 3
   },
   "file_extension": ".py",
   "mimetype": "text/x-python",
   "name": "python",
   "nbconvert_exporter": "python",
   "pygments_lexer": "ipython3",
   "version": "3.9.12"
  }
 },
 "nbformat": 4,
 "nbformat_minor": 5
}
