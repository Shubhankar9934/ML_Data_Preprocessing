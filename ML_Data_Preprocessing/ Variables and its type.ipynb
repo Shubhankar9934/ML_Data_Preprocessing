{
 "cells": [
  {
   "cell_type": "raw",
   "id": "dcbe12eb",
   "metadata": {},
   "source": [
    "Topics :\n",
    "    > What is Variable ?\n",
    "    > Examples \n",
    "    > What are the type of variable?"
   ]
  },
  {
   "cell_type": "markdown",
   "id": "b36948ea",
   "metadata": {},
   "source": [
    "# What is variable ?"
   ]
  },
  {
   "cell_type": "raw",
   "id": "803a67e1",
   "metadata": {},
   "source": [
    "A variable is any characteristic , number , or quantity that can be measured \n",
    "or counted."
   ]
  },
  {
   "cell_type": "markdown",
   "id": "7e1f7a9c",
   "metadata": {},
   "source": [
    "# What are the types of variable ?"
   ]
  },
  {
   "cell_type": "raw",
   "id": "52664f30",
   "metadata": {},
   "source": [
    "Variable :\n",
    "    > Numerical ( Discrete , continuous) \n",
    "    > Categorical (Ordinal , Nominal)\n",
    "    > Dates and Times \n",
    "    > Mixed"
   ]
  },
  {
   "cell_type": "markdown",
   "id": "b737d2eb",
   "metadata": {},
   "source": [
    "# Numerical Variable ?"
   ]
  },
  {
   "cell_type": "raw",
   "id": "b56f8a2d",
   "metadata": {},
   "source": [
    "What is Numerical Variable ?\n"
   ]
  },
  {
   "cell_type": "raw",
   "id": "1302fb37",
   "metadata": {},
   "source": [
    "A numerical variable is a variable where the measurement or number \n",
    "has a numerical meaning."
   ]
  },
  {
   "cell_type": "markdown",
   "id": "ad5b7e9a",
   "metadata": {},
   "source": [
    "# What are the types of Numerical variable?"
   ]
  },
  {
   "cell_type": "raw",
   "id": "2959dd96",
   "metadata": {},
   "source": [
    "1)  Discrete \n",
    "2) Continuous"
   ]
  },
  {
   "cell_type": "raw",
   "id": "fd0be180",
   "metadata": {},
   "source": [
    "What is Discrete Variable ?"
   ]
  },
  {
   "cell_type": "raw",
   "id": "e13d0857",
   "metadata": {},
   "source": [
    "The value which can be counted as whole value (fixed) \n",
    "called as discrete variable.\n",
    ". 1, 45,73,23 not 23.4 , 56.76,3.04\n",
    "Integer value\n"
   ]
  },
  {
   "cell_type": "markdown",
   "id": "f89d921d",
   "metadata": {},
   "source": [
    "# What are the types Continuous variable?"
   ]
  },
  {
   "cell_type": "code",
   "execution_count": null,
   "id": "4923769f",
   "metadata": {},
   "outputs": [],
   "source": [
    "The value contain range , measurements called as continous variable.\n",
    "\n",
    "Ex 1.3,4.5,73.6,20.3 not 23, 56 , 3\n",
    "Floating value"
   ]
  },
  {
   "cell_type": "markdown",
   "id": "a9501459",
   "metadata": {},
   "source": [
    "# Categorical (Ordinal , Nominal)"
   ]
  },
  {
   "cell_type": "raw",
   "id": "a8bd0eba",
   "metadata": {},
   "source": [
    "The Values of a categorical variable are selected from a group of \n",
    "categories , also called labels."
   ]
  },
  {
   "cell_type": "markdown",
   "id": "3098a437",
   "metadata": {},
   "source": [
    "# What are the Types of Categorical Varaibles ?"
   ]
  },
  {
   "cell_type": "raw",
   "id": "e98beff4",
   "metadata": {},
   "source": [
    "1) Ordinal \n",
    "2) Nominal"
   ]
  },
  {
   "cell_type": "markdown",
   "id": "da57bb8b",
   "metadata": {},
   "source": [
    "# Ordinal Variable\n"
   ]
  },
  {
   "cell_type": "raw",
   "id": "bfebb507",
   "metadata": {},
   "source": [
    "Ordinal Variable are categorical variable in which the categories can be\n",
    "meaningfully ordered.\n",
    "\n",
    "When the ordinal variable convert into the number the it has mathematical value "
   ]
  },
  {
   "cell_type": "raw",
   "id": "22a1eb5b",
   "metadata": {},
   "source": [
    "Ex .  Rating of products"
   ]
  },
  {
   "cell_type": "markdown",
   "id": "0f5af488",
   "metadata": {},
   "source": [
    "# Nominal Variable ?"
   ]
  },
  {
   "cell_type": "raw",
   "id": "da538aa4",
   "metadata": {},
   "source": [
    "Nominal Variable is same like Ordinal Variable but there is nothing\n",
    "that indicates an intrinsic order of the labels and in principle.\n",
    "\n",
    "All labels are equal no order.\n",
    "\n",
    "No mathematical value\n"
   ]
  },
  {
   "cell_type": "raw",
   "id": "f03589e0",
   "metadata": {},
   "source": [
    "Ex . color: Red , Green , White , Black"
   ]
  },
  {
   "cell_type": "markdown",
   "id": "6c16d468",
   "metadata": {},
   "source": [
    "# Date and Time and Mixed Variable"
   ]
  },
  {
   "cell_type": "raw",
   "id": "1d7407be",
   "metadata": {},
   "source": [
    " Date and Time variable can  contain Date only ,time only ,or date and time. "
   ]
  },
  {
   "cell_type": "raw",
   "id": "f2599bad",
   "metadata": {},
   "source": [
    "Ex : App login / logout , click on ads , money withdraw, System Power on/off,\n",
    "     Baby Born Report , Death Report"
   ]
  },
  {
   "cell_type": "markdown",
   "id": "b79cd7f7",
   "metadata": {},
   "source": [
    "# Mixed Variable ?"
   ]
  },
  {
   "cell_type": "raw",
   "id": "83348d05",
   "metadata": {},
   "source": [
    "The variable which contains numbers and categories (labels) called\n",
    "Mixed Varaibles"
   ]
  },
  {
   "cell_type": "code",
   "execution_count": null,
   "id": "8542ed5e",
   "metadata": {},
   "outputs": [],
   "source": []
  }
 ],
 "metadata": {
  "kernelspec": {
   "display_name": "Python 3 (ipykernel)",
   "language": "python",
   "name": "python3"
  },
  "language_info": {
   "codemirror_mode": {
    "name": "ipython",
    "version": 3
   },
   "file_extension": ".py",
   "mimetype": "text/x-python",
   "name": "python",
   "nbconvert_exporter": "python",
   "pygments_lexer": "ipython3",
   "version": "3.9.12"
  }
 },
 "nbformat": 4,
 "nbformat_minor": 5
}
