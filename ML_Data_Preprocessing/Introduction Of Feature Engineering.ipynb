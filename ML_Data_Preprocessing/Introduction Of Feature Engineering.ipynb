{
 "cells": [
  {
   "cell_type": "raw",
   "id": "746e1b6f",
   "metadata": {},
   "source": [
    "Topics: \n",
    "    > What is Feature Engineering ?\n",
    "    > Why is Feature Engineering Important ?\n",
    "    > Process\n",
    "    > Prerequisites"
   ]
  },
  {
   "cell_type": "markdown",
   "id": "2334ab6e",
   "metadata": {},
   "source": [
    "# What is Feature Engineering ?"
   ]
  },
  {
   "cell_type": "raw",
   "id": "b8e62380",
   "metadata": {},
   "source": [
    "Feature is an attribute or property shared by all of the independent\n",
    "units on which analysis or prediction is to be done."
   ]
  },
  {
   "cell_type": "raw",
   "id": "845a4bde",
   "metadata": {},
   "source": [
    "Feature Engineering is the process to create feature / extract the feature from \n",
    "existing features by domain knowledge to increase the prformance os Machine \n",
    "Learning Model.\n",
    "\n",
    "Feature Engineering is an art."
   ]
  },
  {
   "cell_type": "markdown",
   "id": "f4e1c900",
   "metadata": {},
   "source": [
    "# Why is Feature Engineering Important ?"
   ]
  },
  {
   "cell_type": "raw",
   "id": "954daff1",
   "metadata": {},
   "source": [
    "Quality data always help to improve the accuracy and performance of \n",
    "Machine Learning model.\n",
    "\n",
    "Machine Learning algorithm follow the rule (like a kids)\n",
    "> GIGO ( Garbage In Garbage Out)"
   ]
  },
  {
   "cell_type": "markdown",
   "id": "79b3e09f",
   "metadata": {},
   "source": [
    "# What are the process of Feature Engineering ?"
   ]
  },
  {
   "cell_type": "raw",
   "id": "3415ae94",
   "metadata": {},
   "source": [
    "# Major process of Feature Engineering :\n",
    "    > Brainstroming or testing features\n",
    "    > Deciding what features to create \n",
    "    > Creating features\n",
    "    > Cheaking how the features work with your model\n",
    "    > Improving your features if needed \n",
    "    > Go back to brainstroming / creating more feature untill the work is done.\n",
    "    "
   ]
  },
  {
   "cell_type": "markdown",
   "id": "6a21e41b",
   "metadata": {},
   "source": [
    "# Prerequisites for Feature Engineering\n"
   ]
  },
  {
   "cell_type": "raw",
   "id": "bf0e183b",
   "metadata": {},
   "source": [
    "Python Libraries:-\n",
    "    > Numpy\n",
    "    > Pandas \n",
    "    > Matplotlib\n",
    "    > Seaborn \n",
    "    > Scikit Learn\n",
    "Mathematics :-\n",
    "    > Statistics\n",
    "    > Probability\n",
    "    > Calculus\n",
    "    > Linear Algebra\n",
    " \n",
    "Software :-\n",
    "  Anaconda \n",
    "  Jupyter Notebook & Spyder\n",
    "  "
   ]
  },
  {
   "cell_type": "code",
   "execution_count": null,
   "id": "59c949e5",
   "metadata": {},
   "outputs": [],
   "source": []
  }
 ],
 "metadata": {
  "kernelspec": {
   "display_name": "Python 3 (ipykernel)",
   "language": "python",
   "name": "python3"
  },
  "language_info": {
   "codemirror_mode": {
    "name": "ipython",
    "version": 3
   },
   "file_extension": ".py",
   "mimetype": "text/x-python",
   "name": "python",
   "nbconvert_exporter": "python",
   "pygments_lexer": "ipython3",
   "version": "3.9.12"
  }
 },
 "nbformat": 4,
 "nbformat_minor": 5
}
